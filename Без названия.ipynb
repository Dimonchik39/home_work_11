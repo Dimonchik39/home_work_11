{
 "cells": [
  {
   "cell_type": "code",
   "execution_count": 38,
   "id": "b46492e6",
   "metadata": {},
   "outputs": [],
   "source": [
    "from sympy import *"
   ]
  },
  {
   "cell_type": "markdown",
   "id": "96e2d6b0",
   "metadata": {},
   "source": [
    "f(x) = (sin(x)/2 + cos(x)/2) ** 2 * sin(x)\n",
    "\n",
    "Определить корни\n",
    "\n",
    "Найти интервалы, на которых функция возрастает\n",
    "\n",
    "Найти интервалы, на которых функция убывает\n",
    "\n",
    "Построить график\n",
    "\n",
    "Вычислить вершину\n",
    "\n",
    "Определить промежутки, на котором f > 0\n",
    "\n",
    "Определить промежутки, на котором f < 0"
   ]
  },
  {
   "cell_type": "code",
   "execution_count": 39,
   "id": "0ddb7d95",
   "metadata": {
    "scrolled": false
   },
   "outputs": [
    {
     "data": {
      "text/latex": [
       "$\\displaystyle \\left(\\frac{\\cos{\\left(1 \\right)}}{2} + \\frac{\\sin{\\left(1 \\right)}}{2}\\right)^{2} \\sin{\\left(1 \\right)}$"
      ],
      "text/plain": [
       "(cos(1)/2 + sin(1)/2)**2*sin(1)"
      ]
     },
     "execution_count": 39,
     "metadata": {},
     "output_type": "execute_result"
    }
   ],
   "source": [
    "x = Symbol('x')\n",
    "f =  (sin(x)/2 + cos(x)/2) ** 2 * sin(x)\n",
    "f.subs(x, 1)"
   ]
  },
  {
   "cell_type": "code",
   "execution_count": 40,
   "id": "9e8ade36",
   "metadata": {},
   "outputs": [
    {
     "data": {
      "text/latex": [
       "$\\displaystyle \\frac{\\sin{\\left(x \\right)} \\sin^{2}{\\left(x + \\frac{\\pi}{4} \\right)}}{2}$"
      ],
      "text/plain": [
       "sin(x)*sin(x + pi/4)**2/2"
      ]
     },
     "execution_count": 40,
     "metadata": {},
     "output_type": "execute_result"
    }
   ],
   "source": [
    "simplify(f)"
   ]
  },
  {
   "cell_type": "markdown",
   "id": "97630d84",
   "metadata": {},
   "source": [
    "___1. Определить корни___\n"
   ]
  },
  {
   "cell_type": "code",
   "execution_count": 41,
   "id": "db2527c2",
   "metadata": {},
   "outputs": [
    {
     "data": {
      "text/plain": [
       "[0, -pi/4, 3*pi/4, pi]"
      ]
     },
     "execution_count": 41,
     "metadata": {},
     "output_type": "execute_result"
    }
   ],
   "source": [
    "radical = solve(f, x)\n",
    "radical"
   ]
  },
  {
   "cell_type": "markdown",
   "id": "3bf4a7b9",
   "metadata": {},
   "source": [
    "___2. Найти интервалы, на которых функция возрастает___"
   ]
  },
  {
   "cell_type": "code",
   "execution_count": 42,
   "id": "aefc1ddf",
   "metadata": {},
   "outputs": [
    {
     "data": {
      "text/latex": [
       "$\\displaystyle \\left(- \\sin{\\left(x \\right)} + \\cos{\\left(x \\right)}\\right) \\left(\\frac{\\sin{\\left(x \\right)}}{2} + \\frac{\\cos{\\left(x \\right)}}{2}\\right) \\sin{\\left(x \\right)} + \\left(\\frac{\\sin{\\left(x \\right)}}{2} + \\frac{\\cos{\\left(x \\right)}}{2}\\right)^{2} \\cos{\\left(x \\right)}$"
      ],
      "text/plain": [
       "(-sin(x) + cos(x))*(sin(x)/2 + cos(x)/2)*sin(x) + (sin(x)/2 + cos(x)/2)**2*cos(x)"
      ]
     },
     "execution_count": 42,
     "metadata": {},
     "output_type": "execute_result"
    }
   ],
   "source": [
    "der = diff(f, x)\n",
    "der"
   ]
  },
  {
   "cell_type": "code",
   "execution_count": 43,
   "id": "26633fb2",
   "metadata": {},
   "outputs": [],
   "source": [
    "per = periodicity(f, x)"
   ]
  },
  {
   "cell_type": "code",
   "execution_count": 44,
   "id": "a23564aa",
   "metadata": {},
   "outputs": [
    {
     "data": {
      "text/latex": [
       "$\\displaystyle 0 \\leq x \\wedge x \\leq 2 \\pi \\wedge \\left(x = 0 \\vee x = \\frac{3 \\pi}{4} \\vee x = \\pi \\vee x = \\frac{7 \\pi}{4}\\right)$"
      ],
      "text/plain": [
       "(0 <= x) & (x <= 2*pi) & (Eq(x, 0) | Eq(x, pi) | Eq(x, 3*pi/4) | Eq(x, 7*pi/4))"
      ]
     },
     "execution_count": 44,
     "metadata": {},
     "output_type": "execute_result"
    }
   ],
   "source": [
    "solve([x>=0, x<=per, f], x)"
   ]
  },
  {
   "cell_type": "markdown",
   "id": "b99db6cf",
   "metadata": {},
   "source": [
    "___3. Найти интервалы, на которых функция убывает___"
   ]
  },
  {
   "cell_type": "code",
   "execution_count": 45,
   "id": "60e7eda2",
   "metadata": {},
   "outputs": [
    {
     "data": {
      "text/latex": [
       "$\\displaystyle x \\leq 0 \\wedge \\left(x = 0 \\vee x = \\frac{3 \\pi}{4} \\vee x = \\pi \\vee x = \\frac{7 \\pi}{4}\\right) \\wedge -\\infty < x$"
      ],
      "text/plain": [
       "(-oo < x) & (x <= 0) & (Eq(x, 0) | Eq(x, pi) | Eq(x, 3*pi/4) | Eq(x, 7*pi/4))"
      ]
     },
     "execution_count": 45,
     "metadata": {},
     "output_type": "execute_result"
    }
   ],
   "source": [
    "solve([x<=0, x<=per, f], x)"
   ]
  },
  {
   "cell_type": "markdown",
   "id": "73ac8a0c",
   "metadata": {},
   "source": [
    "___4. Построить график___"
   ]
  },
  {
   "cell_type": "code",
   "execution_count": 46,
   "id": "5a04aca2",
   "metadata": {},
   "outputs": [
    {
     "data": {
      "image/png": "[encoded data removed]",
      "text/plain": [
       "<Figure size 640x480 with 1 Axes>"
      ]
     },
     "metadata": {},
     "output_type": "display_data"
    }
   ],
   "source": [
    "gr = plot((f, (x, -pi, pi)), line_color='red')"
   ]
  },
  {
   "cell_type": "markdown",
   "id": "d58b4d5b",
   "metadata": {},
   "source": [
    "___5. Вычислить вершину___"
   ]
  },
  {
   "cell_type": "code",
   "execution_count": 47,
   "id": "dd36231f",
   "metadata": {},
   "outputs": [
    {
     "data": {
      "text/plain": [
       "[-pi, -2.08, -0.79, -0.27, 1.06, 2.36, 2.87, pi]"
      ]
     },
     "execution_count": 47,
     "metadata": {},
     "output_type": "execute_result"
    }
   ],
   "source": [
    "points_list = []\n",
    "extremum = solve(der, x)\n",
    "for i in extremum:\n",
    "    points_list.append(round(i.evalf(), 2))\n",
    "    \n",
    "points_list.insert(0, -pi)\n",
    "points_list.append(pi)\n",
    "points_list.sort()\n",
    "points_list\n"
   ]
  },
  {
   "cell_type": "code",
   "execution_count": 48,
   "id": "34de2fc3",
   "metadata": {},
   "outputs": [
    {
     "name": "stdout",
     "output_type": "stream",
     "text": [
      "Вершина 1: x = -2.08, y = -0.40\n",
      "Вершина 2: x = -0.79, y = 0.0\n",
      "Вершина 3: x = -0.27, y = -0.03\n",
      "Вершина 4: x = 1.06, y = 0.40\n",
      "Вершина 5: x = 2.36, y = 0.0\n",
      "Вершина 6: x = 2.87, y = 0.03\n"
     ]
    }
   ],
   "source": [
    "vertex = points_list[1:-1]\n",
    "index = 1\n",
    "for i in vertex:\n",
    "    print(f'Вершина {index}: x = {i}, y = {round(f.subs(x, i).evalf(), 2)}')\n",
    "    index +=1"
   ]
  },
  {
   "cell_type": "markdown",
   "id": "7cbe70de",
   "metadata": {},
   "source": [
    "___6. Определить промежутки, на котором f > 0___\n"
   ]
  },
  {
   "cell_type": "code",
   "execution_count": 49,
   "id": "542eabcf",
   "metadata": {},
   "outputs": [
    {
     "data": {
      "text/latex": [
       "$\\displaystyle \\left(0, \\frac{3 \\pi}{4}\\right) \\cup \\left(\\frac{3 \\pi}{4}, \\pi\\right)$"
      ],
      "text/plain": [
       "Union(Interval.open(0, 3*pi/4), Interval.open(3*pi/4, pi))"
      ]
     },
     "execution_count": 49,
     "metadata": {},
     "output_type": "execute_result"
    }
   ],
   "source": [
    "solveset(f>0, x, S.Reals)"
   ]
  },
  {
   "cell_type": "markdown",
   "id": "9a644e92",
   "metadata": {},
   "source": [
    "___7. Определить промежутки, на котором f < 0___\n",
    "\n"
   ]
  },
  {
   "cell_type": "code",
   "execution_count": 50,
   "id": "19673c4b",
   "metadata": {},
   "outputs": [
    {
     "data": {
      "text/latex": [
       "$\\displaystyle \\left(\\pi, \\frac{7 \\pi}{4}\\right) \\cup \\left(\\frac{7 \\pi}{4}, 2 \\pi\\right)$"
      ],
      "text/plain": [
       "Union(Interval.open(pi, 7*pi/4), Interval.open(7*pi/4, 2*pi))"
      ]
     },
     "execution_count": 50,
     "metadata": {},
     "output_type": "execute_result"
    }
   ],
   "source": [
    "solveset(f<0, x, S.Reals)"
   ]
  }
 ],
 "metadata": {
  "kernelspec": {
   "display_name": "Python 3 (ipykernel)",
   "language": "python",
   "name": "python3"
  },
  "language_info": {
   "codemirror_mode": {
    "name": "ipython",
    "version": 3
   },
   "file_extension": ".py",
   "mimetype": "text/x-python",
   "name": "python",
   "nbconvert_exporter": "python",
   "pygments_lexer": "ipython3",
   "version": "3.9.13"
  }
 },
 "nbformat": 4,
 "nbformat_minor": 5
}
